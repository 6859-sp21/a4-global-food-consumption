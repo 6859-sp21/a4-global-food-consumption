{
 "cells": [
  {
   "cell_type": "code",
   "execution_count": 1,
   "metadata": {},
   "outputs": [],
   "source": [
    "import pandas as pd"
   ]
  },
  {
   "cell_type": "code",
   "execution_count": 13,
   "metadata": {},
   "outputs": [],
   "source": [
    "df = pd.read_csv('../_data/summary_with_pop.csv')"
   ]
  },
  {
   "cell_type": "code",
   "execution_count": 18,
   "metadata": {},
   "outputs": [],
   "source": [
    "cols = [col.split(' ')[0] for col in df.columns] "
   ]
  },
  {
   "cell_type": "code",
   "execution_count": 20,
   "metadata": {},
   "outputs": [],
   "source": [
    "df.columns = cols"
   ]
  },
  {
   "cell_type": "markdown",
   "metadata": {},
   "source": [
    "### Quantifying CO2 emissions\n",
    "\n",
    "Data from: https://www.visualcapitalist.com/visualising-the-greenhouse-gas-impact-of-each-food/\n",
    "\n",
    "Units: kg CO2 equivalents per kg of product"
   ]
  },
  {
   "cell_type": "code",
   "execution_count": 15,
   "metadata": {},
   "outputs": [],
   "source": [
    "emissions = {\n",
    "    'beef': 60,\n",
    "    'sheep': 24,\n",
    "    'pig': 7,\n",
    "    'poultry': 6,\n",
    "    'maize': 1,\n",
    "    'rice': 4,\n",
    "    'soy': 0.9,\n",
    "    'wheat': 1.4,\n",
    "}\n",
    "\n",
    "emissions = pd.Series(emissions)"
   ]
  },
  {
   "cell_type": "code",
   "execution_count": 23,
   "metadata": {},
   "outputs": [],
   "source": [
    "MEATS = ['beef', 'pig', 'poultry', 'sheep']\n",
    "PLANTS = ['maize', 'rice', 'soy', 'wheat']"
   ]
  },
  {
   "cell_type": "code",
   "execution_count": 24,
   "metadata": {},
   "outputs": [],
   "source": [
    "emdf = df.copy()"
   ]
  },
  {
   "cell_type": "code",
   "execution_count": 25,
   "metadata": {},
   "outputs": [],
   "source": [
    "for meat in MEATS:\n",
    "    emdf[meat] = emdf[meat] * emdf.population * 1e6 * emissions.loc[meat]"
   ]
  },
  {
   "cell_type": "code",
   "execution_count": 27,
   "metadata": {},
   "outputs": [],
   "source": [
    "for plant in PLANTS:\n",
    "    emdf[plant] = emdf[plant] * 1e6 * emissions.loc[plant]"
   ]
  },
  {
   "cell_type": "code",
   "execution_count": 29,
   "metadata": {},
   "outputs": [],
   "source": [
    "emdf.to_csv('../_data/emissions.csv')"
   ]
  }
 ],
 "metadata": {
  "kernelspec": {
   "display_name": "Python 3",
   "language": "python",
   "name": "python3"
  },
  "language_info": {
   "codemirror_mode": {
    "name": "ipython",
    "version": 3
   },
   "file_extension": ".py",
   "mimetype": "text/x-python",
   "name": "python",
   "nbconvert_exporter": "python",
   "pygments_lexer": "ipython3",
   "version": "3.8.2"
  }
 },
 "nbformat": 4,
 "nbformat_minor": 4
}
