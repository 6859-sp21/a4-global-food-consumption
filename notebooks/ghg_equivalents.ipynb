{
 "cells": [
  {
   "cell_type": "code",
   "execution_count": 1,
   "metadata": {},
   "outputs": [],
   "source": [
    "import pandas as pd"
   ]
  },
  {
   "cell_type": "code",
   "execution_count": 20,
   "metadata": {},
   "outputs": [],
   "source": [
    "df = pd.read_csv('../_data/summary_with_pop.csv')"
   ]
  },
  {
   "cell_type": "code",
   "execution_count": 21,
   "metadata": {},
   "outputs": [
    {
     "data": {
      "text/plain": [
       "Index(['country', 'year', 'population', 'beef (kg/capita)', 'pig (kg/capita)',\n",
       "       'poultry (kg/capita)', 'sheep (kg/capita)', 'maize (1000 tonnes)',\n",
       "       'rice (1000 tonnes)', 'soy (1000 tonnes)', 'wheat (1000 tonnes)'],\n",
       "      dtype='object')"
      ]
     },
     "execution_count": 21,
     "metadata": {},
     "output_type": "execute_result"
    }
   ],
   "source": [
    "df.columns"
   ]
  },
  {
   "cell_type": "code",
   "execution_count": 22,
   "metadata": {},
   "outputs": [],
   "source": [
    "cols = [col.split(' ')[0] for col in df.columns] "
   ]
  },
  {
   "cell_type": "code",
   "execution_count": 23,
   "metadata": {},
   "outputs": [],
   "source": [
    "df.columns = cols"
   ]
  },
  {
   "cell_type": "markdown",
   "metadata": {},
   "source": [
    "### Quantifying CO2 emissions\n",
    "\n",
    "Data from: https://www.visualcapitalist.com/visualising-the-greenhouse-gas-impact-of-each-food/\n",
    "\n",
    "Units: kg CO2 equivalents per kg of product"
   ]
  },
  {
   "cell_type": "code",
   "execution_count": 24,
   "metadata": {},
   "outputs": [],
   "source": [
    "emissions = {\n",
    "    'beef': 60,\n",
    "    'sheep': 24,\n",
    "    'pig': 7,\n",
    "    'poultry': 6,\n",
    "    'maize': 1,\n",
    "    'rice': 4,\n",
    "    'soy': 0.9,\n",
    "    'wheat': 1.4,\n",
    "}\n",
    "\n",
    "emissions = pd.Series(emissions)"
   ]
  },
  {
   "cell_type": "code",
   "execution_count": 25,
   "metadata": {},
   "outputs": [],
   "source": [
    "MEATS = ['beef', 'pig', 'poultry', 'sheep']\n",
    "PLANTS = ['maize', 'rice', 'soy', 'wheat']"
   ]
  },
  {
   "cell_type": "code",
   "execution_count": 26,
   "metadata": {},
   "outputs": [],
   "source": [
    "emdf = df.copy().drop(PLANTS, axis=1)"
   ]
  },
  {
   "cell_type": "code",
   "execution_count": 27,
   "metadata": {},
   "outputs": [],
   "source": [
    "for meat in MEATS:\n",
    "    emdf[meat + '_emissions'] = emdf[meat] * emdf.population * emissions.loc[meat]"
   ]
  },
  {
   "cell_type": "code",
   "execution_count": 12,
   "metadata": {},
   "outputs": [],
   "source": [
    "# for plant in PLANTS:\n",
    "#     emdf[plant + '_emissions'] = emdf[plant] * emissions.loc[plant]"
   ]
  },
  {
   "cell_type": "code",
   "execution_count": 28,
   "metadata": {},
   "outputs": [],
   "source": [
    "# emdf['total'] = emdf[MEATS + PLANTS].sum(axis=1)\n",
    "emdf['total_meat_consumption'] = emdf[MEATS].sum(axis=1)\n",
    "emdf['total_meat_emissions'] = emdf[[f'{m}_emissions' for m in MEATS]].sum(axis=1)"
   ]
  },
  {
   "cell_type": "markdown",
   "metadata": {},
   "source": [
    "Final units:\n",
    "\n",
    " - `population`: millions\n",
    " - meat consumption: kg/capita\n",
    " - emissions: 1000 tons CO2 equivalents"
   ]
  },
  {
   "cell_type": "code",
   "execution_count": 32,
   "metadata": {},
   "outputs": [
    {
     "data": {
      "text/plain": [
       "array(['ARG', 'AUS', 'BRA', 'CAN', 'CHL', 'CHN', 'COL', 'EGY', 'ETH',\n",
       "       'IDN', 'IND', 'IRN', 'ISR', 'JPN', 'KAZ', 'KOR', 'MEX', 'MYS',\n",
       "       'NGA', 'NZL', 'PAK', 'PER', 'PHL', 'PRY', 'RUS', 'SAU', 'THA',\n",
       "       'TUR', 'UKR', 'USA', 'VNM', 'WLD', 'ZAF'], dtype=object)"
      ]
     },
     "execution_count": 32,
     "metadata": {},
     "output_type": "execute_result"
    }
   ],
   "source": [
    "emdf.country.unique()"
   ]
  },
  {
   "cell_type": "code",
   "execution_count": 33,
   "metadata": {},
   "outputs": [],
   "source": [
    "countries = pd.Series({\n",
    "    'ARG': 'Argentina',\n",
    "    'AUS': 'Australia',\n",
    "    'BRA': 'Brazil',\n",
    "    'CAN': 'Canada',\n",
    "    'CHL': 'Chile',\n",
    "    'CHN': 'China',\n",
    "    'COL': 'Colombia',\n",
    "    'EGY': 'Egypt',\n",
    "    'ETH': 'Ethiopia',\n",
    "    'IDN': 'Indonesia',\n",
    "    'IND': 'India',\n",
    "    'IRN': 'Iran',\n",
    "    'ISR': 'Israel',\n",
    "    'JPN': 'Japan',\n",
    "    'KAZ': 'Kazakhstan',\n",
    "    'KOR': 'South Korea',\n",
    "    'MEX': 'Mexico',\n",
    "    'MYS': 'Malaysia',\n",
    "    'NGA': 'Nigeria',\n",
    "    'NZL': 'New Zealand',\n",
    "    'PAK': 'Pakistan',\n",
    "    'PER': 'Peru',\n",
    "    'PHL': 'Phillipines',\n",
    "    'PRY': 'Paraguay',\n",
    "    'RUS': 'Russia',\n",
    "    'SAU': 'Saudi Arabia',\n",
    "    'THA': 'Thailand',\n",
    "    'TUR': 'Turkey',\n",
    "    'UKR': 'Ukraine',\n",
    "    'USA': 'United States',\n",
    "    'VNM': 'Vietnam',\n",
    "    'WLD': 'World',\n",
    "    'ZAF': 'South Africa',\n",
    "})"
   ]
  },
  {
   "cell_type": "code",
   "execution_count": 39,
   "metadata": {},
   "outputs": [],
   "source": [
    "emdf['country_name'] = countries.reindex(emdf.country.values).values"
   ]
  },
  {
   "cell_type": "code",
   "execution_count": 40,
   "metadata": {},
   "outputs": [],
   "source": [
    "emdf.to_csv('../_data/emissions.csv', index=False)"
   ]
  },
  {
   "cell_type": "code",
   "execution_count": null,
   "metadata": {},
   "outputs": [],
   "source": []
  }
 ],
 "metadata": {
  "kernelspec": {
   "display_name": "Python 3",
   "language": "python",
   "name": "python3"
  },
  "language_info": {
   "codemirror_mode": {
    "name": "ipython",
    "version": 3
   },
   "file_extension": ".py",
   "mimetype": "text/x-python",
   "name": "python",
   "nbconvert_exporter": "python",
   "pygments_lexer": "ipython3",
   "version": "3.8.2"
  }
 },
 "nbformat": 4,
 "nbformat_minor": 4
}
